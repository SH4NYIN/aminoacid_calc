{
 "cells": [
  {
   "cell_type": "code",
   "execution_count": 19,
   "metadata": {},
   "outputs": [
    {
     "name": "stdout",
     "output_type": "stream",
     "text": [
      "Amino Acid A's Molar Weight is  85.07941\n"
     ]
    }
   ],
   "source": [
    "# initialization of the elements in use\n",
    "class elem:\n",
    "    def __init__(self, enum, name, abbr, mw, isos, mw_use):\n",
    "        self.enum = enum\n",
    "        self.name = name\n",
    "        self.abbr = abbr\n",
    "        self.mw = mw            # original mw\n",
    "        self.isos = isos     # isotope mw\n",
    "        self.mw_use = mw_use    # used mw (for calc)\n",
    "    def check_marked(self):\n",
    "        # for name,value in vars(self).items():\n",
    "        # for self.enum in range (0, 5):\n",
    "        if Elem_marked == self.abbr or self.name:\n",
    "            self.mw_use = self.isos\n",
    "\n",
    "C = elem(1, \"Carbon\", \"C\", 12.011, 14.0032, 12.011)\n",
    "H = elem(2, \"Hydrogen\", \"H\", 1.0080, 2.01410, 1.0080)\n",
    "O = elem(3, \"Oxygen\", \"O\", 15.999, 17.9992, 15.999)\n",
    "N = elem(4, \"Nitrogen\", \"N\", 14.007, 15.00011, 14.007)\n",
    "S = elem(5, \"Sulfur\", \"S\", 32.06, 33.9679, 32.06)\n",
    "\n",
    "# check the elem to be marked\n",
    "Elem_marked = str(input(\"Input the element to be marked with isotope: \"))\n",
    "for key in {C:1, H:2, O:3, N:4, S:5}:\n",
    "    elem.check_marked(key)\n",
    "\n",
    "\n",
    "\n",
    "class amino_acid:\n",
    "    def __init__(self, name, C, H, O, N, S, Mw):\n",
    "        self.name = name\n",
    "        self.C = C\n",
    "        self.H = H\n",
    "        self.O = O\n",
    "        self.N = N\n",
    "        self.S = S\n",
    "        self.Mw = Mw\n",
    "    def MoleWeight(self):\n",
    "        # for name,value in vars(self).items():\n",
    "            # print(\"%s=%s\"%(name,value))\n",
    "        self.Mw = self.C * C.mw_use + self.H * H.mw_use + self.O * O.mw_use + self.N * N.mw_use + self.S * S.mw_use\n",
    "\n",
    "Ami_A = amino_acid(\"Alanine\", 3, 5, 1, 1, 0, 0)\n",
    "# Ami_A.Mw += C.mw * Ami_A.C\n",
    "\n",
    "Ami_A.MoleWeight()\n",
    "print(\"Amino Acid A's Molar Weight is \", Ami_A.Mw)\n",
    "\n"
   ]
  },
  {
   "cell_type": "code",
   "execution_count": null,
   "metadata": {},
   "outputs": [],
   "source": []
  }
 ],
 "metadata": {
  "kernelspec": {
   "display_name": "Python 3.10.4 64-bit",
   "language": "python",
   "name": "python3"
  },
  "language_info": {
   "codemirror_mode": {
    "name": "ipython",
    "version": 3
   },
   "file_extension": ".py",
   "mimetype": "text/x-python",
   "name": "python",
   "nbconvert_exporter": "python",
   "pygments_lexer": "ipython3",
   "version": "3.10.4"
  },
  "orig_nbformat": 4,
  "vscode": {
   "interpreter": {
    "hash": "174e4fd585f8ba0faf374dc031976f2757bb013dec2b6ac1a28e43d7bf8a8010"
   }
  }
 },
 "nbformat": 4,
 "nbformat_minor": 2
}
